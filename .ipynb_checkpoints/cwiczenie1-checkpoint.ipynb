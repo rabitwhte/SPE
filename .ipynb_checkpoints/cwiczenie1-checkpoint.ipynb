{
 "cells": [
  {
   "attachments": {},
   "cell_type": "markdown",
   "metadata": {},
   "source": [
    "# Ćwiczenie 1\n",
    "W fabryce wytwarza się dwa rodzaje produktów – nazwijmy je S1 i S2. Wytworzenie jednostki produktu S1 wymaga 3 jedn. surowca A i 4 jedn. surowca B. Wytworzenie jednostki produktu S2 wymaga 2 jedn. surowca A i 5 jedn. Surowca B. Dostawy surowców każdego dnia wynoszą – 12 jedn. surowca A, 23 jednostki surowca B. Cena sprzedaży produktu S1 wynosi 14 zł/jedn., S2 – 15 zł/jedn. Koszty produkcji wynoszą 3 zł/jedn. dla  S1 i S2. Oznacz zmienne decyzyjne jako: x1 – dzienna produkcja S1, x2 – dzienna produkcja S2."
   ]
  },
  {
   "cell_type": "code",
   "execution_count": 4,
   "metadata": {},
   "outputs": [
    {
     "name": "stdout",
     "output_type": "stream",
     "text": [
      "Max 11 x1 + 12 x2\n",
      "Subject to\n",
      " 3 x1 + 2 x2 <= 12\n",
      " 4 x1 + 5 x2 <= 23\n",
      " x1 >= 0\n",
      " x2 >= 0\n"
     ]
    },
    {
     "data": {
      "text/plain": [
       ":Optimal"
      ]
     },
     "execution_count": 4,
     "metadata": {},
     "output_type": "execute_result"
    },
    {
     "name": "stdout",
     "output_type": "stream",
     "text": [
      "This is Ipopt version 3.12.8, running with linear solver mumps.\n",
      "NOTE: Other linear solvers might be more efficient (see Ipopt documentation).\n",
      "\n",
      "Number of nonzeros in equality constraint Jacobian...:        0\n",
      "Number of nonzeros in inequality constraint Jacobian.:        4\n",
      "Number of nonzeros in Lagrangian Hessian.............:        0\n",
      "\n",
      "Total number of variables............................:        2\n",
      "                     variables with only lower bounds:        2\n",
      "                variables with lower and upper bounds:        0\n",
      "                     variables with only upper bounds:        0\n",
      "Total number of equality constraints.................:        0\n",
      "Total number of inequality constraints...............:        2\n",
      "        inequality constraints with only lower bounds:        0\n",
      "   inequality constraints with lower and upper bounds:        0\n",
      "        inequality constraints with only upper bounds:        2\n",
      "\n",
      "iter    objective    inf_pr   inf_du lg(mu)  ||d||  lg(rg) alpha_du alpha_pr  ls\n",
      "   0 -2.2999977e-001 0.00e+000 1.02e+000  -1.0 0.00e+000    -  0.00e+000 0.00e+000   0\n",
      "   1 -5.0356500e+000 0.00e+000 1.14e+001  -1.0 1.88e+000    -  8.00e-002 1.00e+000f  1\n",
      "   2 -5.4771450e+001 0.00e+000 5.76e+000  -1.0 4.19e+001    -  1.00e+000 4.96e-001f  1\n",
      "   3 -5.5629253e+001 0.00e+000 1.03e+000  -1.0 4.43e-001    -  3.68e-001 1.00e+000f  1\n",
      "   4 -5.7890895e+001 0.00e+000 1.94e-001  -1.0 2.75e+000    -  1.00e+000 8.51e-001f  1\n",
      "   5 -5.7961659e+001 0.00e+000 2.00e-007  -1.7 3.38e-002    -  1.00e+000 1.00e+000f  1\n",
      "   6 -5.7999618e+001 0.00e+000 1.50e-009  -3.8 2.02e-002    -  1.00e+000 1.00e+000f  1\n",
      "   7 -5.7999997e+001 0.00e+000 1.85e-011  -5.7 2.34e-004    -  1.00e+000 1.00e+000f  1\n",
      "   8 -5.8000001e+001 0.00e+000 2.63e-014  -8.6 1.83e-006    -  1.00e+000 1.00e+000f  1\n",
      "\n",
      "Number of Iterations....: 8\n",
      "\n",
      "                                   (scaled)                 (unscaled)\n",
      "Objective...............: -5.8000000574987638e+001  -5.8000000574987638e+001\n",
      "Dual infeasibility......:  2.6251108199605176e-014   2.6251108199605176e-014\n",
      "Constraint violation....:  0.0000000000000000e+000   0.0000000000000000e+000\n",
      "Complementarity.........:  2.5064643704353272e-009   2.5064643704353272e-009\n",
      "Overall NLP error.......:  2.5064643704353272e-009   2.5064643704353272e-009\n",
      "\n",
      "\n",
      "Number of objective function evaluations             = 9\n",
      "Number of objective gradient evaluations             = 9\n",
      "Number of equality constraint evaluations            = 0\n",
      "Number of inequality constraint evaluations          = 9\n",
      "Number of equality constraint Jacobian evaluations   = 0\n",
      "Number of inequality constraint Jacobian evaluations = 9\n",
      "Number of Lagrangian Hessian evaluations             = 8\n",
      "Total CPU secs in IPOPT (w/o function evaluations)   =      0.003\n",
      "Total CPU secs in NLP function evaluations           =      0.000\n",
      "\n",
      "EXIT: Optimal Solution Found.\n"
     ]
    }
   ],
   "source": [
    "using JuMP\n",
    "using Ipopt\n",
    "\n",
    "m = Model(solver = IpoptSolver())\n",
    "\n",
    "@variable(m, x1 >= 0)\n",
    "@variable(m, x2 >= 0)\n",
    "\n",
    "@objective(m, Max, 14x1+15x2-3(x1+x2)) \n",
    "\n",
    "@constraint(m, 3x1+2x2 <= 12)\n",
    "@constraint(m, 4x1+5x2 <= 23)\n",
    "\n",
    "print(m)\n",
    "\n",
    "status = solve(m)"
   ]
  },
  {
   "cell_type": "code",
   "execution_count": 5,
   "metadata": {},
   "outputs": [
    {
     "data": {
      "text/plain": [
       "3.000000030895286"
      ]
     },
     "execution_count": 5,
     "metadata": {},
     "output_type": "execute_result"
    }
   ],
   "source": [
    "getvalue(x2)"
   ]
  },
  {
   "cell_type": "code",
   "execution_count": 6,
   "metadata": {},
   "outputs": [
    {
     "data": {
      "text/plain": [
       "2.000000018567655"
      ]
     },
     "execution_count": 6,
     "metadata": {},
     "output_type": "execute_result"
    }
   ],
   "source": [
    "getvalue(x1)"
   ]
  },
  {
   "cell_type": "code",
   "execution_count": null,
   "metadata": {},
   "outputs": [],
   "source": []
  }
 ],
 "metadata": {
  "kernelspec": {
   "display_name": "Julia 0.6.4",
   "language": "julia",
   "name": "julia-0.6"
  },
  "language_info": {
   "file_extension": ".jl",
   "mimetype": "application/julia",
   "name": "julia",
   "version": "0.6.4"
  }
 },
 "nbformat": 4,
 "nbformat_minor": 2
}
