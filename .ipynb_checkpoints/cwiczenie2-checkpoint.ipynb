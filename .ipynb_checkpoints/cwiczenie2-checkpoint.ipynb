{
 "cells": [
  {
   "attachments": {},
   "cell_type": "markdown",
   "metadata": {},
   "source": [
    "# Ćwiczenie 2\n",
    "<img src=\"cw2.png\">"
   ]
  },
  {
   "cell_type": "code",
   "execution_count": 12,
   "metadata": {},
   "outputs": [
    {
     "name": "stdout",
     "output_type": "stream",
     "text": [
      "Min 0.8 B² + 140 A + 0.5 B\n",
      "Subject to\n",
      " A + B == 200\n",
      " 70 <= A <= 200\n",
      " 80 <= B <= 250\n"
     ]
    },
    {
     "data": {
      "text/plain": [
       ":Optimal"
      ]
     },
     "execution_count": 12,
     "metadata": {},
     "output_type": "execute_result"
    },
    {
     "name": "stdout",
     "output_type": "stream",
     "text": [
      "This is Ipopt version 3.12.8, running with linear solver mumps.\n",
      "NOTE: Other linear solvers might be more efficient (see Ipopt documentation).\n",
      "\n",
      "Number of nonzeros in equality constraint Jacobian...:        2\n",
      "Number of nonzeros in inequality constraint Jacobian.:        0\n",
      "Number of nonzeros in Lagrangian Hessian.............:        1\n",
      "\n",
      "Total number of variables............................:        2\n",
      "                     variables with only lower bounds:        0\n",
      "                variables with lower and upper bounds:        2\n",
      "                     variables with only upper bounds:        0\n",
      "Total number of equality constraints.................:        1\n",
      "Total number of inequality constraints...............:        0\n",
      "        inequality constraints with only lower bounds:        0\n",
      "   inequality constraints with lower and upper bounds:        0\n",
      "        inequality constraints with only upper bounds:        0\n",
      "\n",
      "iter    objective    inf_pr   inf_du lg(mu)  ||d||  lg(rg) alpha_du alpha_pr  ls\n",
      "   0 1.5161312e+004 4.85e+001 3.65e+000  -1.0 0.00e+000    -  0.00e+000 0.00e+000   0\n",
      "   1 2.2068288e+004 2.84e-014 3.97e+001  -1.0 2.84e+001    -  2.39e-002 1.00e+000h  1\n",
      "   2 2.1918804e+004 0.00e+000 1.02e-001  -1.0 1.33e+001    -  8.90e-001 1.00e+000f  1\n",
      "   3 2.1918672e+004 0.00e+000 1.15e-004  -1.0 3.84e-001    -  9.99e-001 1.00e+000f  1\n",
      "   4 2.1918672e+004 0.00e+000 9.27e-015  -2.5 2.20e-002    -  1.00e+000 1.00e+000f  1\n",
      "   5 2.1918672e+004 0.00e+000 6.49e-015  -3.8 3.55e-004    -  1.00e+000 1.00e+000f  1\n",
      "   6 2.1918672e+004 0.00e+000 8.78e-015  -5.7 1.58e-005    -  1.00e+000 1.00e+000f  1\n",
      "   7 2.1918672e+004 0.00e+000 1.85e-014  -8.6 1.95e-007    -  1.00e+000 1.00e+000f  1\n",
      "\n",
      "Number of Iterations....: 7\n",
      "\n",
      "                                   (scaled)                 (unscaled)\n",
      "Objective...............:  1.5656194196428572e+004   2.1918671875000000e+004\n",
      "Dual infeasibility......:  1.8502724189587092e-014   2.5903813865421926e-014\n",
      "Constraint violation....:  0.0000000000000000e+000   0.0000000000000000e+000\n",
      "Complementarity.........:  2.5059536225257753e-009   3.5083350715360852e-009\n",
      "Overall NLP error.......:  2.5059536225257753e-009   3.5083350715360852e-009\n",
      "\n",
      "\n",
      "Number of objective function evaluations             = 8\n",
      "Number of objective gradient evaluations             = 8\n",
      "Number of equality constraint evaluations            = 8\n",
      "Number of inequality constraint evaluations          = 0\n",
      "Number of equality constraint Jacobian evaluations   = 8\n",
      "Number of inequality constraint Jacobian evaluations = 0\n",
      "Number of Lagrangian Hessian evaluations             = 7\n",
      "Total CPU secs in IPOPT (w/o function evaluations)   =      0.092\n",
      "Total CPU secs in NLP function evaluations           =      0.072\n",
      "\n",
      "EXIT: Optimal Solution Found.\n"
     ]
    }
   ],
   "source": [
    "using JuMP\n",
    "using Ipopt\n",
    "\n",
    "m = Model(solver = IpoptSolver())\n",
    "\n",
    "demand = 200\n",
    "# demand = 300\n",
    "\n",
    "@variable(m, 70 <= A <= 200)\n",
    "@variable(m, 80 <= B <= 250)\n",
    "@constraint(m, A+B == demand)\n",
    "\n",
    "@objective(m, Min, 140*A+0.8*B*B+0.5*B)\n",
    "\n",
    "print(m)\n",
    "\n",
    "status = solve(m)"
   ]
  },
  {
   "cell_type": "code",
   "execution_count": 13,
   "metadata": {},
   "outputs": [
    {
     "data": {
      "text/plain": [
       "112.81249999973447"
      ]
     },
     "execution_count": 13,
     "metadata": {},
     "output_type": "execute_result"
    }
   ],
   "source": [
    "getvalue(A)"
   ]
  },
  {
   "cell_type": "code",
   "execution_count": 14,
   "metadata": {},
   "outputs": [
    {
     "data": {
      "text/plain": [
       "87.18750000026553"
      ]
     },
     "execution_count": 14,
     "metadata": {},
     "output_type": "execute_result"
    }
   ],
   "source": [
    "getvalue(B)"
   ]
  },
  {
   "cell_type": "code",
   "execution_count": null,
   "metadata": {},
   "outputs": [],
   "source": []
  }
 ],
 "metadata": {
  "kernelspec": {
   "display_name": "Julia 0.6.4",
   "language": "julia",
   "name": "julia-0.6"
  },
  "language_info": {
   "file_extension": ".jl",
   "mimetype": "application/julia",
   "name": "julia",
   "version": "0.6.4"
  }
 },
 "nbformat": 4,
 "nbformat_minor": 2
}
