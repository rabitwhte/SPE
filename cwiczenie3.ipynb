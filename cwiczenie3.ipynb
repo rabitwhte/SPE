{
 "cells": [
  {
   "cell_type": "markdown",
   "metadata": {},
   "source": [
    "# Ćwiczenie 3\n",
    "<img src=\"cw3.PNG\"/>"
   ]
  },
  {
   "cell_type": "code",
   "execution_count": 1,
   "metadata": {},
   "outputs": [
    {
     "name": "stdout",
     "output_type": "stream",
     "text": [
      "Min 0.8 B[1]² + 0.8 B[2]² + 0.8 B[3]² + 0.8 B[4]² + 0.8 B[5]² + 0.8 B[6]² + 0.8 B[7]² + 140 A[1] + 0.5 B[1] + 140 A[2] + 0.5 B[2] + 140 A[3] + 0.5 B[3] + 140 A[4] + 0.5 B[4] + 140 A[5] + 0.5 B[5] + 140 A[6] + 0.5 B[6] + 140 A[7] + 0.5 B[7]\n",
      "Subject to\n",
      " A[1] + B[1] == 200\n",
      " A[2] + B[2] == 300\n",
      " A[3] + B[3] == 400\n",
      " A[4] + B[4] == 500\n",
      " A[5] + B[5] == 450\n",
      " A[6] + B[6] == 400\n",
      " A[7] + B[7] == 350\n",
      " 70 <= A[i] <= 200 for all i in {1,2,..,6,7}\n",
      " 80 <= B[i] <= 250 for all i in {1,2,..,6,7}\n",
      "\n",
      "******************************************************************************\n",
      "This program contains Ipopt, a library for large-scale nonlinear optimization.\n",
      " Ipopt is released as open source code under the Eclipse Public License (EPL).\n",
      "         For more information visit http://projects.coin-or.org/Ipopt\n",
      "******************************************************************************\n",
      "\n",
      "This is Ipopt version 3.12.8, running with linear solver mumps.\n",
      "NOTE: Other linear solvers might be more efficient (see Ipopt documentation).\n",
      "\n",
      "Number of nonzeros in equality constraint Jacobian...:       14\n",
      "Number of nonzeros in inequality constraint Jacobian.:        0\n",
      "Number of nonzeros in Lagrangian Hessian.............:        7\n",
      "\n",
      "Total number of variables............................:       14\n",
      "                     variables with only lower bounds:        0\n",
      "                variables with lower and upper bounds:       14\n",
      "                     variables with only upper bounds:        0\n",
      "Total number of equality constraints.................:        7\n",
      "Total number of inequality constraints...............:        0\n",
      "        inequality constraints with only lower bounds:        0\n",
      "   inequality constraints with lower and upper bounds:        0\n",
      "        inequality constraints with only upper bounds:        0\n",
      "\n",
      "iter    objective    inf_pr   inf_du lg(mu)  ||d||  lg(rg) alpha_du alpha_pr  ls\n",
      "   0 1.0612918e+005 3.49e+002 3.65e+000  -1.0 0.00e+000    -  0.00e+000 0.00e+000   0\n",
      "   1 2.4652781e+005 1.42e+002 1.81e+002  -1.0 2.16e+002    -  3.20e-003 5.92e-001h  1\n",
      "   2 2.4726865e+005 1.41e+002 1.50e+002  -1.0 1.74e+002    -  3.81e-001 1.00e-002h  1\n",
      "   3 2.5822335e+005 1.24e+002 1.25e+002  -1.0 1.51e+002    -  3.58e-001 1.18e-001h  1\n",
      "   4 2.6597871e+005 1.14e+002 9.52e+001  -1.0 1.24e+002    -  3.78e-001 7.79e-002h  1\n",
      "   5 2.8341534e+005 9.49e+001 6.59e+001  -1.0 1.14e+002    -  4.92e-001 1.70e-001h  1\n",
      "   6 3.1247369e+005 6.77e+001 4.68e+001  -1.0 9.49e+001    -  4.36e-001 2.86e-001h  1\n",
      "   7 3.2492004e+005 5.72e+001 3.77e+001  -1.0 6.77e+001    -  4.56e-001 1.55e-001h  1\n",
      "   8 3.3370951e+005 5.01e+001 5.14e+001  -1.0 5.72e+001    -  9.58e-001 1.25e-001h  1\n",
      "   9 3.3379887e+005 5.00e+001 2.54e+004  -1.0 5.00e+001    -  1.00e+000 1.43e-003h  1\n",
      "iter    objective    inf_pr   inf_du lg(mu)  ||d||  lg(rg) alpha_du alpha_pr  ls\n",
      "  10 3.3380083e+005 5.00e+001 6.99e+008  -1.0 4.28e+001    -  1.00e+000 3.60e-005h  1\n",
      "  11r3.3380083e+005 5.00e+001 1.00e+003   1.7 0.00e+000    -  0.00e+000 2.84e-007R  2\n",
      "  12r3.7750212e+005 5.00e+001 9.97e+002   1.7 1.49e+004    -  5.35e-003 2.84e-003f  1\n",
      "  13r3.8014152e+005 5.00e+001 9.93e+002   1.0 1.01e+003    -  1.00e+000 3.98e-003f  1\n",
      "  14r3.8091365e+005 5.00e+001 3.69e+002   1.0 7.41e+000    -  7.32e-001 6.28e-001f  1\n",
      "  15r3.8205032e+005 5.00e+001 1.63e+000   1.0 2.01e+000    -  1.00e+000 9.96e-001f  1\n",
      "  16r3.8111052e+005 5.00e+001 6.81e-001  -1.1 6.14e+000    -  9.18e-001 9.97e-001f  1\n",
      "  17r3.8106227e+005 5.00e+001 3.68e-002  -1.8 7.06e-001    -  1.00e+000 1.00e+000f  1\n",
      "  18r3.8087999e+005 5.00e+001 1.92e-002  -2.7 1.94e+000    -  1.00e+000 1.00e+000f  1\n",
      "  19r3.8082388e+005 5.00e+001 7.77e+001  -4.0 1.04e+000    -  1.00e+000 6.03e-001f  1\n",
      "iter    objective    inf_pr   inf_du lg(mu)  ||d||  lg(rg) alpha_du alpha_pr  ls\n",
      "  20r3.8077836e+005 5.00e+001 2.82e+001  -4.0 6.70e-001    -  9.51e-001 1.00e+000f  1\n",
      "  21r3.8075750e+005 5.00e+001 5.21e+001  -4.0 2.78e-001    -  1.00e+000 2.50e-001f  3\n",
      "  22r3.8075750e+005 5.00e+001 5.12e+001  -4.0 2.27e-001    -  1.00e+000 3.81e-006f 19\n",
      "  23r3.8075750e+005 5.00e+001 5.12e+001  -4.0 2.28e-001    -  1.00e+000 2.38e-007f 23\n",
      "  24r3.8075750e+005 5.00e+001 5.12e+001  -4.0 2.28e-001    -  1.00e+000 2.38e-007f 23\n",
      "  25r3.8075750e+005 5.00e+001 5.12e+001  -4.0 2.28e-001    -  1.00e+000 2.38e-007f 23\n",
      "  26r3.8075750e+005 5.00e+001 5.12e+001  -4.0 2.28e-001    -  1.00e+000 2.38e-007f 23\n",
      "  27r3.8075750e+005 5.00e+001 5.12e+001  -4.0 2.28e-001    -  1.00e+000 2.38e-007f 23\n",
      "  28r3.8075750e+005 5.00e+001 5.12e+001  -4.0 2.28e-001    -  1.00e+000 1.91e-006f 20\n",
      "  29r3.8075750e+005 5.00e+001 5.12e+001  -4.0 2.28e-001    -  1.00e+000 1.91e-006f 20\n",
      "iter    objective    inf_pr   inf_du lg(mu)  ||d||  lg(rg) alpha_du alpha_pr  ls\n",
      "  30r3.8075750e+005 5.00e+001 5.12e+001  -4.0 2.28e-001    -  1.00e+000 1.91e-006f 20\n",
      "  31r3.8067997e+005 5.00e+001 9.11e-010  -4.0 2.28e-001    -  1.00e+000 1.00e+000w  1\n",
      "  32r3.8065735e+005 5.00e+001 1.24e+000  -6.1 1.17e-001    -  1.00e+000 9.69e-001f  1\n",
      "  33r3.8065761e+005 5.00e+001 8.75e-012  -6.1 4.89e-003    -  1.00e+000 1.00e+000f  1\n",
      "  34r3.8065627e+005 5.00e+001 2.11e-004  -9.0 1.19e-002    -  1.00e+000 1.00e+000f  1\n",
      "\n",
      "Number of Iterations....: 34\n",
      "\n",
      "                                   (scaled)                 (unscaled)\n",
      "Objective...............:  2.7189734750266158e+005   3.8065628650372621e+005\n",
      "Dual infeasibility......:  2.8607143142856944e+002   4.0050000399999720e+002\n",
      "Constraint violation....:  4.9999995500001830e+001   4.9999995500001830e+001\n",
      "Complementarity.........:  9.1062325995820696e-010   1.2748725639414898e-009\n",
      "Overall NLP error.......:  2.8607143142856944e+002   4.0050000399999720e+002\n",
      "\n",
      "\n",
      "Number of objective function evaluations             = 239\n",
      "Number of objective gradient evaluations             = 13\n",
      "Number of equality constraint evaluations            = 239\n",
      "Number of inequality constraint evaluations          = 0\n",
      "Number of equality constraint Jacobian evaluations   = 37\n",
      "Number of inequality constraint Jacobian evaluations = 0\n",
      "Number of Lagrangian Hessian evaluations             = 35\n",
      "Total CPU secs in IPOPT (w/o function evaluations)   =      0.130\n",
      "Total CPU secs in NLP function evaluations           =      0.103\n",
      "\n",
      "EXIT: Converged to a point of local infeasibility. Problem may be infeasible.\n"
     ]
    },
    {
     "name": "stderr",
     "output_type": "stream",
     "text": [
      "\u001b[1m\u001b[33mWarning: \u001b[39m\u001b[22m\u001b[33mNot solved to optimality, status: Infeasible\u001b[39m\n"
     ]
    },
    {
     "data": {
      "text/plain": [
       ":Infeasible"
      ]
     },
     "execution_count": 1,
     "metadata": {},
     "output_type": "execute_result"
    }
   ],
   "source": [
    "#\n",
    "using JuMP\n",
    "using Ipopt\n",
    "\n",
    "m = Model(solver = IpoptSolver())\n",
    "\n",
    "demand = [200, 300, 400, 500, 450, 400, 350]\n",
    "hours = length(demand)\n",
    "\n",
    "@variable(m, 70  <= A[1:hours] <= 200)\n",
    "@variable(m, 80  <= B[1:hours] <= 250)\n",
    "\n",
    "for i in 1:hours\n",
    "    @constraint(m,A[i]+B[i]==demand[i])\n",
    "end\n",
    "\n",
    "\n",
    "@objective(m,Min, sum(A[i]*140 + 0.8*B[i]^2+0.5*B[i] for i in 1:hours))\n",
    "\n",
    "print(m)\n",
    "    \n",
    "status = solve(m)"
   ]
  },
  {
   "cell_type": "markdown",
   "metadata": {},
   "source": [
    "Jak sprawdzić, które ograniczenie spowodowało, że zbiór możliwych rozwiązań jest pusty?"
   ]
  },
  {
   "cell_type": "code",
   "execution_count": 2,
   "metadata": {},
   "outputs": [
    {
     "name": "stdout",
     "output_type": "stream",
     "text": [
      "Min 0.8 B[1]² + 0.8 B[2]² + 0.8 B[3]² + 0.8 B[4]² + 0.8 B[5]² + 0.8 B[6]² + 0.8 B[7]² + 140 A[1] + 0.5 B[1] + 1000 relax_demand[1] + 140 A[2] + 0.5 B[2] + 1000 relax_demand[2] + 140 A[3] + 0.5 B[3] + 1000 relax_demand[3] + 140 A[4] + 0.5 B[4] + 1000 relax_demand[4] + 140 A[5] + 0.5 B[5] + 1000 relax_demand[5] + 140 A[6] + 0.5 B[6] + 1000 relax_demand[6] + 140 A[7] + 0.5 B[7] + 1000 relax_demand[7]\n",
      "Subject to\n",
      " A[1] + B[1] + relax_demand[1] == 200\n",
      " A[2] + B[2] + relax_demand[2] == 300\n",
      " A[3] + B[3] + relax_demand[3] == 400\n",
      " A[4] + B[4] + relax_demand[4] == 500\n",
      " A[5] + B[5] + relax_demand[5] == 450\n",
      " A[6] + B[6] + relax_demand[6] == 400\n",
      " A[7] + B[7] + relax_demand[7] == 350\n",
      " 70 <= A[i] <= 200 for all i in {1,2,..,6,7}\n",
      " 80 <= B[i] <= 250 for all i in {1,2,..,6,7}\n",
      " relax_demand[i] >= 0 for all i in {1,2,..,6,7}\n",
      "This is Ipopt version 3.12.8, running with linear solver mumps.\n",
      "NOTE: Other linear solvers might be more efficient (see Ipopt documentation).\n",
      "\n",
      "Number of nonzeros in equality constraint Jacobian...:       21\n",
      "Number of nonzeros in inequality constraint Jacobian.:        0\n",
      "Number of nonzeros in Lagrangian Hessian.............:        7\n",
      "\n",
      "Total number of variables............................:       21\n",
      "                     variables with only lower bounds:        7\n",
      "                variables with lower and upper bounds:       14\n",
      "                     variables with only upper bounds:        0\n",
      "Total number of equality constraints.................:        7\n",
      "Total number of inequality constraints...............:        0\n",
      "        inequality constraints with only lower bounds:        0\n",
      "   inequality constraints with lower and upper bounds:        0\n",
      "        inequality constraints with only upper bounds:        0\n",
      "\n",
      "iter    objective    inf_pr   inf_du lg(mu)  ||d||  lg(rg) alpha_du alpha_pr  ls\n",
      "   0 1.0619918e+005 3.48e+002 5.70e+001  -1.0 0.00e+000    -  0.00e+000 0.00e+000   0\n",
      "   1 1.1127764e+005 3.40e+002 5.67e+001  -1.0 1.75e+002    -  4.02e-003 2.37e-002h  1\n",
      "   2 1.1207052e+005 3.39e+002 5.57e+001  -1.0 3.32e+002    -  1.44e-002 4.30e-003h  1\n",
      "   3 1.1626502e+005 3.32e+002 5.47e+001  -1.0 3.23e+002    -  1.90e-002 2.04e-002h  1\n",
      "   4 1.2906703e+005 3.11e+002 5.32e+001  -1.0 3.15e+002    -  3.77e-002 6.25e-002h  1\n",
      "   5 1.6702364e+005 2.50e+002 5.04e+001  -1.0 2.92e+002    -  9.83e-002 1.97e-001h  1\n",
      "   6 1.9612167e+005 2.03e+002 3.89e+001  -1.0 2.11e+002    -  2.16e-001 1.88e-001h  1\n",
      "   7 2.0609897e+005 1.88e+002 3.14e+001  -1.0 1.98e+002    -  1.73e-001 7.54e-002h  1\n",
      "   8 2.3048687e+005 1.53e+002 2.43e+001  -1.0 1.88e+002    -  2.54e-001 1.82e-001h  1\n",
      "   9 2.6300452e+005 1.15e+002 1.55e+001  -1.0 1.53e+002    -  4.41e-001 2.51e-001h  1\n",
      "iter    objective    inf_pr   inf_du lg(mu)  ||d||  lg(rg) alpha_du alpha_pr  ls\n",
      "  10 3.0997024e+005 6.98e+001 8.34e+000  -1.0 1.15e+002    -  5.43e-001 3.93e-001h  1\n",
      "  11 3.3349688e+005 5.02e+001 5.95e+000  -1.0 6.98e+001    -  8.13e-001 2.81e-001h  1\n",
      "  12 3.3374237e+005 5.00e+001 4.81e+001  -1.0 5.01e+001    -  4.25e-002 3.91e-003h  1\n",
      "  13 3.3416205e+005 4.98e+001 1.06e+001  -1.0 4.93e+001    -  4.21e-005 4.56e-003h  1\n",
      "  14 4.1442159e+005 8.00e+000 9.39e+000  -1.0 4.98e+001    -  7.82e-003 8.39e-001h  1\n",
      "  15 4.3033890e+005 8.24e-002 8.52e-003  -1.0 8.00e+000    -  1.00e+000 9.90e-001h  1\n",
      "  16 4.3049387e+005 1.25e-003 4.53e-003  -1.7 8.01e-002    -  1.00e+000 9.85e-001h  1\n",
      "  17 4.3049369e+005 6.03e-007 1.03e-004  -3.8 1.69e-002    -  1.00e+000 1.00e+000h  1\n",
      "  18 4.3049367e+005 5.68e-014 1.85e-011  -5.7 1.65e-004    -  1.00e+000 1.00e+000h  1\n",
      "  19 4.3049367e+005 0.00e+000 3.74e-003  -8.6 1.42e-006    -  9.88e-001 9.92e-001f  1\n",
      "iter    objective    inf_pr   inf_du lg(mu)  ||d||  lg(rg) alpha_du alpha_pr  ls\n",
      "  20 4.3049367e+005 5.68e-014 2.84e-014  -8.6 1.09e-008    -  1.00e+000 1.00e+000f  1\n",
      "\n",
      "Number of Iterations....: 20\n",
      "\n",
      "                                   (scaled)                 (unscaled)\n",
      "Objective...............:  4.3049366712740084e+004   4.3049366712740081e+005\n",
      "Dual infeasibility......:  2.8421709430404007e-014   2.8421709430404007e-013\n",
      "Constraint violation....:  5.6843418860808015e-014   5.6843418860808015e-014\n",
      "Complementarity.........:  2.5073311896709533e-009   2.5073311896709533e-008\n",
      "Overall NLP error.......:  2.5073311896709533e-009   2.5073311896709533e-008\n",
      "\n",
      "\n",
      "Number of objective function evaluations             = 21\n",
      "Number of objective gradient evaluations             = 21\n",
      "Number of equality constraint evaluations            = 21\n",
      "Number of inequality constraint evaluations          = 0\n",
      "Number of equality constraint Jacobian evaluations   = 21\n",
      "Number of inequality constraint Jacobian evaluations = 0\n",
      "Number of Lagrangian Hessian evaluations             = 20\n",
      "Total CPU secs in IPOPT (w/o function evaluations)   =      0.007\n",
      "Total CPU secs in NLP function evaluations           =      0.000\n",
      "\n",
      "EXIT: Optimal Solution Found.\n"
     ]
    },
    {
     "data": {
      "text/plain": [
       ":Optimal"
      ]
     },
     "execution_count": 2,
     "metadata": {},
     "output_type": "execute_result"
    }
   ],
   "source": [
    "m = Model(solver = IpoptSolver())\n",
    "\n",
    "demand = [200, 300, 400, 500, 450, 400, 350]\n",
    "hours = length(demand)\n",
    "\n",
    "@variable(m, 70  <= A[1:hours] <= 200)\n",
    "@variable(m, 80  <= B[1:hours] <= 250)\n",
    "# nowa zmienna\n",
    "@variable(m, relax_demand[1:hours] >= 0)\n",
    "\n",
    "# dodanie zmiennej dla poluzowania ograniczenia\n",
    "for i in 1:hours\n",
    "    @constraint(m,A[i]+B[i]+relax_demand[i]==demand[i])\n",
    "end\n",
    "        \n",
    "# dodanie zmiennej do funkcji celu, tak aby byla rowna 0, jesli to mozliwe\n",
    "@objective(m,Min, sum(A[i]*140 + 0.8*B[i]^2+0.5*B[i] +1e3*relax_demand[i] for i in 1:hours))\n",
    "\n",
    "print(m)\n",
    "    \n",
    "status = solve(m)"
   ]
  },
  {
   "cell_type": "code",
   "execution_count": 3,
   "metadata": {},
   "outputs": [
    {
     "name": "stdout",
     "output_type": "stream",
     "text": [
      "A\n",
      "[112.813, 200.0, 200.0, 200.0, 200.0, 200.0, 200.0]\n",
      "B\n",
      "[87.1875, 100.0, 200.0, 250.0, 250.0, 200.0, 150.0]\n",
      "A+B\n",
      "[200.0, 300.0, 400.0, 450.0, 450.0, 400.0, 350.0]\n",
      "[200, 300, 400, 500, 450, 400, 350]\n",
      "[0.0, 0.0, 0.0, 50.0, 0.0, 0.0, 0.0]\n"
     ]
    }
   ],
   "source": [
    "println(\"A\")\n",
    "println(getvalue(A))\n",
    "println(\"B\")\n",
    "println(getvalue(B))\n",
    "println(\"A+B\")\n",
    "println(getvalue(A)+getvalue(B))\n",
    "println(demand)\n",
    "println(getvalue(relax_demand))"
   ]
  },
  {
   "cell_type": "markdown",
   "metadata": {},
   "source": [
    "Widać, że w 4tej godzinie zapotrzebowanie było większe niż sumaryczna moc max obu źródeł."
   ]
  }
 ],
 "metadata": {
  "kernelspec": {
   "display_name": "Julia 0.6.4",
   "language": "julia",
   "name": "julia-0.6"
  },
  "language_info": {
   "file_extension": ".jl",
   "mimetype": "application/julia",
   "name": "julia",
   "version": "0.6.4"
  }
 },
 "nbformat": 4,
 "nbformat_minor": 2
}
