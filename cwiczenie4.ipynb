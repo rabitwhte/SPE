{
 "cells": [
  {
   "cell_type": "markdown",
   "metadata": {},
   "source": [
    "# Ćwiczenie 4\n",
    "<img src=\"cw4.png\"/>"
   ]
  },
  {
   "cell_type": "code",
   "execution_count": 1,
   "metadata": {},
   "outputs": [
    {
     "name": "stdout",
     "output_type": "stream",
     "text": [
      "Min (state[1,1] * (generation[1,1] * 150.0 + 10.0 * 200.0) + state[1,2] * (generation[1,2] * 100.0 + 10.0 * 250.0) + state[1,3] * (generation[1,3] * 170.0 + 80.0 * 150.0) + state[1,4] * (generation[1,4] * 150.0 + 70.0 * 180.0) + state[1,5] * (generation[1,5] * 200.0 + 60.0 * 210.0) + state[1,6] * (generation[1,6] * 190.0 + 50.0 * 220.0)) + (state[2,1] * (generation[2,1] * 150.0 + 10.0 * 200.0) + state[2,2] * (generation[2,2] * 100.0 + 10.0 * 250.0) + state[2,3] * (generation[2,3] * 170.0 + 80.0 * 150.0) + state[2,4] * (generation[2,4] * 150.0 + 70.0 * 180.0) + state[2,5] * (generation[2,5] * 200.0 + 60.0 * 210.0) + state[2,6] * (generation[2,6] * 190.0 + 50.0 * 220.0)) + (state[3,1] * (generation[3,1] * 150.0 + 10.0 * 200.0) + state[3,2] * (generation[3,2] * 100.0 + 10.0 * 250.0) + state[3,3] * (generation[3,3] * 170.0 + 80.0 * 150.0) + state[3,4] * (generation[3,4] * 150.0 + 70.0 * 180.0) + state[3,5] * (generation[3,5] * 200.0 + 60.0 * 210.0) + state[3,6] * (generation[3,6] * 190.0 + 50.0 * 220.0)) + (state[4,1] * (generation[4,1] * 150.0 + 10.0 * 200.0) + state[4,2] * (generation[4,2] * 100.0 + 10.0 * 250.0) + state[4,3] * (generation[4,3] * 170.0 + 80.0 * 150.0) + state[4,4] * (generation[4,4] * 150.0 + 70.0 * 180.0) + state[4,5] * (generation[4,5] * 200.0 + 60.0 * 210.0) + state[4,6] * (generation[4,6] * 190.0 + 50.0 * 220.0))\n",
      "Subject to\n",
      " generation[1,1] <= 200\n",
      " generation[1,1] >= 70\n",
      " generation[1,2] <= 250\n",
      " generation[1,2] >= 80\n",
      " generation[1,3] <= 150\n",
      " generation[1,3] >= 40\n",
      " generation[1,4] <= 180\n",
      " generation[1,4] >= 50\n",
      " generation[1,5] <= 210\n",
      " generation[1,5] >= 60\n",
      " generation[1,6] <= 220\n",
      " generation[1,6] >= 50\n",
      " generation[2,1] <= 200\n",
      " generation[2,1] >= 70\n",
      " generation[2,2] <= 250\n",
      " generation[2,2] >= 80\n",
      " generation[2,3] <= 150\n",
      " generation[2,3] >= 40\n",
      " generation[2,4] <= 180\n",
      " generation[2,4] >= 50\n",
      " generation[2,5] <= 210\n",
      " generation[2,5] >= 60\n",
      " generation[2,6] <= 220\n",
      " generation[2,6] >= 50\n",
      " generation[3,1] <= 200\n",
      " generation[3,1] >= 70\n",
      " generation[3,2] <= 250\n",
      " generation[3,2] >= 80\n",
      " generation[3,3] <= 150\n",
      " generation[3,3] >= 40\n",
      " generation[3,4] <= 180\n",
      " generation[3,4] >= 50\n",
      " generation[3,5] <= 210\n",
      " generation[3,5] >= 60\n",
      " generation[3,6] <= 220\n",
      " generation[3,6] >= 50\n",
      " generation[4,1] <= 200\n",
      " generation[4,1] >= 70\n",
      " generation[4,2] <= 250\n",
      " generation[4,2] >= 80\n",
      " generation[4,3] <= 150\n",
      " generation[4,3] >= 40\n",
      " generation[4,4] <= 180\n",
      " generation[4,4] >= 50\n",
      " generation[4,5] <= 210\n",
      " generation[4,5] >= 60\n",
      " generation[4,6] <= 220\n",
      " generation[4,6] >= 50\n",
      " generation[1,1]*state[1,1] + generation[1,2]*state[1,2] + generation[1,3]*state[1,3] + generation[1,4]*state[1,4] + generation[1,5]*state[1,5] + generation[1,6]*state[1,6] - 800 == 0\n",
      " generation[2,1]*state[2,1] + generation[2,2]*state[2,2] + generation[2,3]*state[2,3] + generation[2,4]*state[2,4] + generation[2,5]*state[2,5] + generation[2,6]*state[2,6] - 900 == 0\n",
      " generation[3,1]*state[3,1] + generation[3,2]*state[3,2] + generation[3,3]*state[3,3] + generation[3,4]*state[3,4] + generation[3,5]*state[3,5] + generation[3,6]*state[3,6] - 1200 == 0\n",
      " generation[4,1]*state[4,1] + generation[4,2]*state[4,2] + generation[4,3]*state[4,3] + generation[4,4]*state[4,4] + generation[4,5]*state[4,5] + generation[4,6]*state[4,6] - 700 == 0\n",
      " generation[i,j] for all i in {1,2,3,4}, j in {1,2,..,5,6}\n",
      " state[i,j] in {0,1} for all i in {1,2,3,4}, j in {1,2,..,5,6}\n"
     ]
    }
   ],
   "source": [
    "using JuMP\n",
    "using Ipopt\n",
    "using AmplNLWriter\n",
    "# solver couenne mozna pobrac z  https://ampl.com/products/solvers/open-source/\n",
    "solver_couenne=\"couenne-win64/couenne.exe\"\n",
    "mdl=Model(solver=AmplNLSolver(solver_couenne))\n",
    "\n",
    "demand = [800,900,1200,700]\n",
    "fixed_cost    = [10 ,10 ,80 ,70 ,60 ,50]\n",
    "variable_cost = [150,100,170,150,200,190]\n",
    "capacity      = [200,250,150,180,210,220]\n",
    "technical_min = [70 ,80 ,40 ,50 ,60,50]\n",
    "\n",
    "hours = length(demand)\n",
    "sources = length(capacity)\n",
    "\n",
    "@variable(mdl,generation[1:hours,1:sources])\n",
    "# zmienna stanu pracy\n",
    "@variable(mdl,state[1:hours,1:sources], Bin)\n",
    "\n",
    "for i in 1:hours\n",
    "   @constraint(mdl,sum(state[i,j]*(generation[i,j]) for j in 1:sources) == demand[i]) \n",
    "    for j in 1:sources\n",
    "       @constraint(mdl,generation[i,j] <= capacity[j])\n",
    "       @constraint(mdl,generation[i,j] >= technical_min[j])\n",
    "    end\n",
    "end\n",
    "  \n",
    "\n",
    "@NLobjective(mdl,Min, sum(sum(state[i,j]*(generation[i,j]*variable_cost[j]+\n",
    "                fixed_cost[j]*capacity[j]) \n",
    "                for j in 1:sources) \n",
    "                for i in 1:hours))\n",
    "\n",
    "print(mdl)"
   ]
  },
  {
   "cell_type": "code",
   "execution_count": 2,
   "metadata": {},
   "outputs": [
    {
     "name": "stdout",
     "output_type": "stream",
     "text": [
      "Couenne 0.5.6 -- an Open-Source solver for Mixed Integer Nonlinear Optimization\n",
      "Mailing list: couenne@list.coin-or.org\n",
      "Instructions: http://www.coin-or.org/Couenne\n",
      "couenne: \n",
      "ANALYSIS TEST: NLP0012I \n",
      "              Num      Status      Obj             It       time                 Location\n",
      "NLP0014I             1         OPT 662200       30 0.025\n",
      "NLP0014I             2         OPT 678200       14 0.011\n",
      "Couenne: new cutoff value 6.7819999502e+005 (0.043 seconds)\n",
      "Loaded instance \"C:\\Users\\bialekj\\.julia\\v0.6\\AmplNLWriter\\.solverdata\\jl_BE0.tmp.nl\"\n",
      "Constraints:           52\n",
      "Variables:             48 (24 integer)\n",
      "Auxiliaries:           77 (0 integer)\n",
      "\n",
      "Coin0506I Presolve 149 (-36) rows, 79 (-46) columns and 409 (-72) elements\n",
      "Clp0006I 0  Obj 234400 Primal inf 7863.7876 (4)\n",
      "Clp0006I 49  Obj 277189.62 Primal inf 3087.6325 (22)\n",
      "Clp0006I 81  Obj 530668.33\n",
      "Clp0000I Optimal - objective value 530668.33\n",
      "Clp0032I Optimal objective 530668.3333 - 81 iterations time 0.002, Presolve 0.00\n",
      "Clp0000I Optimal - objective value 530668.33\n",
      "Cbc0012I Integer solution of 678200 found by Couenne Rounding NLP after 0 iterations and 0 nodes (0.00 seconds)\n",
      "NLP Heuristic: NLP0014I             3         OPT 741100       17 0.013\n",
      "no solution.\n",
      "Clp0000I Optimal - objective value 530668.33\n",
      "Optimality Based BT: 0 improved bounds\n",
      "Probing: 0 improved bounds\n",
      "NLP Heuristic: time limit reached.\n",
      "Cbc0013I At root node, 0 cuts changed objective from 530668.33 to 530668.33 in 1 passes\n",
      "Cbc0014I Cut generator 0 (Couenne convexifier cuts) - 0 row cuts average 0.0 elements, 1 column cuts (1 active)\n",
      "Cbc0010I After 0 nodes, 1 on tree, 678200 best solution, best possible 530668.33 (0.07 seconds)\n",
      "Optimality Based BT: 0 improved bounds\n",
      "Optimality Based BT: 0 improved bounds\n",
      "Optimality Based BT: 0 improved bounds\n",
      "Optimality Based BT: 0 improved bounds\n",
      "Optimality Based BT: 0 improved bounds\n",
      "Optimality Based BT: 0 improved bounds\n",
      "Optimality Based BT: 0 improved bounds\n",
      "Optimality Based BT: 0 improved bounds\n",
      "Optimality Based BT: 4 improved bounds\n",
      "Optimality Based BT: 0 improved bounds\n",
      "Cbc0010I After 100 nodes, 36 on tree, 678200 best solution, best possible 611360 (1.03 seconds)\n",
      "Optimality Based BT: 7 improved bounds\n",
      "Optimality Based BT: 1 improved bounds\n",
      "Optimality Based BT: 0 improved bounds\n",
      "Cbc0010I After 200 nodes, 62 on tree, 678200 best solution, best possible 628887.5 (1.42 seconds)\n",
      "Optimality Based BT: 2 improved bounds\n",
      "Cbc0010I After 300 nodes, 83 on tree, 678200 best solution, best possible 638687.5 (1.70 seconds)\n",
      "Cbc0010I After 400 nodes, 95 on tree, 678200 best solution, best possible 651750 (1.80 seconds)\n",
      "Optimality Based BT: 10 improved bounds\n",
      "Couenne: new cutoff value 6.7780000000e+005 (1.972 seconds)\n",
      "Cbc0004I Integer solution of 677800 found after 1560 iterations and 495 nodes (1.93 seconds)\n",
      "Cbc0010I After 500 nodes, 87 on tree, 677800 best solution, best possible 660600 (1.93 seconds)\n",
      "Cbc0010I After 600 nodes, 63 on tree, 677800 best solution, best possible 666650 (1.96 seconds)\n",
      "Cbc0010I After 700 nodes, 22 on tree, 677800 best solution, best possible 675350 (1.99 seconds)\n",
      "Cbc0001I Search completed - best objective 677799.9999999999, took 2115 iterations and 744 nodes (2.00 seconds)\n",
      "Cbc0035I Maximum depth 13, 0 variables fixed on reduced cost\n",
      "\b\n",
      " \t\"Finished\"\n",
      "\n",
      "Linearization cuts added at root node:        185\n",
      "Linearization cuts added in total:            185  (separation time: 0s)\n",
      "Total solve time:                           2.002s (2.002s in branch-and-bound)\n",
      "Lower bound:                               677800\n",
      "Upper bound:                               677800  (gap: 0.00%)\n",
      "Branch-and-bound nodes:                       744\n",
      "Performance of                           FBBT:\t      0.009s,      382 runs. fix:  0.0827356 shrnk:    1.38064 ubd:          0 2ubd:          0 infeas:          0\n"
     ]
    },
    {
     "data": {
      "text/plain": [
       ":Optimal"
      ]
     },
     "execution_count": 2,
     "metadata": {},
     "output_type": "execute_result"
    }
   ],
   "source": [
    "status = solve(mdl)"
   ]
  },
  {
   "cell_type": "code",
   "execution_count": 3,
   "metadata": {},
   "outputs": [
    {
     "data": {
      "text/plain": [
       "4×6 Array{Float64,2}:\n",
       " 200.0  250.0  150.0  180.0  210.0  170.0\n",
       " 200.0  250.0  150.0  180.0  210.0  120.0\n",
       " 200.0  250.0  150.0  180.0  200.0  220.0\n",
       " 200.0  250.0   70.0  180.0  210.0  220.0"
      ]
     },
     "execution_count": 3,
     "metadata": {},
     "output_type": "execute_result"
    }
   ],
   "source": [
    "getvalue(generation)"
   ]
  },
  {
   "cell_type": "code",
   "execution_count": 4,
   "metadata": {},
   "outputs": [
    {
     "data": {
      "text/plain": [
       "4×6 Array{Float64,2}:\n",
       " 1.0  1.0  0.0  1.0  0.0  1.0\n",
       " 1.0  1.0  1.0  1.0  0.0  1.0\n",
       " 1.0  1.0  1.0  1.0  1.0  1.0\n",
       " 1.0  1.0  1.0  1.0  0.0  0.0"
      ]
     },
     "execution_count": 4,
     "metadata": {},
     "output_type": "execute_result"
    }
   ],
   "source": [
    "getvalue(state)"
   ]
  },
  {
   "cell_type": "code",
   "execution_count": 5,
   "metadata": {
    "scrolled": true
   },
   "outputs": [
    {
     "data": {
      "text/plain": [
       "4×6 Array{Float64,2}:\n",
       " 200.0  250.0    0.0  180.0    0.0  170.0\n",
       " 200.0  250.0  150.0  180.0    0.0  120.0\n",
       " 200.0  250.0  150.0  180.0  200.0  220.0\n",
       " 200.0  250.0   70.0  180.0    0.0    0.0"
      ]
     },
     "execution_count": 5,
     "metadata": {},
     "output_type": "execute_result"
    }
   ],
   "source": [
    "result = getvalue(generation).*getvalue(state)"
   ]
  },
  {
   "cell_type": "code",
   "execution_count": null,
   "metadata": {},
   "outputs": [],
   "source": []
  }
 ],
 "metadata": {
  "kernelspec": {
   "display_name": "Julia 0.6.4",
   "language": "julia",
   "name": "julia-0.6"
  },
  "language_info": {
   "file_extension": ".jl",
   "mimetype": "application/julia",
   "name": "julia",
   "version": "0.6.4"
  }
 },
 "nbformat": 4,
 "nbformat_minor": 2
}
